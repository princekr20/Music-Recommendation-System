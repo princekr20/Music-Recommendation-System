{
 "cells": [
  {
   "cell_type": "code",
   "execution_count": 1,
   "id": "c58bd32d",
   "metadata": {},
   "outputs": [],
   "source": [
    "import numpy as np\n",
    "import pandas as pd"
   ]
  },
  {
   "cell_type": "code",
   "execution_count": 2,
   "id": "89582600",
   "metadata": {},
   "outputs": [
    {
     "name": "stdout",
     "output_type": "stream",
     "text": [
      "  artist                   song                                        link  \\\n",
      "0   ABBA  Ahe's My Kind Of Girl  /a/abba/ahes+my+kind+of+girl_20598417.html   \n",
      "1   ABBA       Andante, Andante       /a/abba/andante+andante_20002708.html   \n",
      "2   ABBA         As Good As New        /a/abba/as+good+as+new_20003033.html   \n",
      "3   ABBA                   Bang                  /a/abba/bang_20598415.html   \n",
      "4   ABBA       Bang-A-Boomerang      /a/abba/bang+a+boomerang_20002668.html   \n",
      "\n",
      "                                                text  \n",
      "0  Look at her face, it's a wonderful face  \\r\\nA...  \n",
      "1  Take it easy with me, please  \\r\\nTouch me gen...  \n",
      "2  I'll never know why I had to go  \\r\\nWhy I had...  \n",
      "3  Making somebody happy is a question of give an...  \n",
      "4  Making somebody happy is a question of give an...  \n"
     ]
    }
   ],
   "source": [
    "def get_data(file_path: str) -> pd.DataFrame:\n",
    "    return pd.read_csv(file_path)\n",
    "\n",
    "file_path = '../data/spotify_millsongdata.csv'  \n",
    "df = get_data(file_path)\n",
    "print(df.head())"
   ]
  },
  {
   "cell_type": "code",
   "execution_count": 3,
   "id": "0a968deb-211c-44d9-b825-770656c3ed25",
   "metadata": {},
   "outputs": [
    {
     "data": {
      "text/html": [
       "<div>\n",
       "<style scoped>\n",
       "    .dataframe tbody tr th:only-of-type {\n",
       "        vertical-align: middle;\n",
       "    }\n",
       "\n",
       "    .dataframe tbody tr th {\n",
       "        vertical-align: top;\n",
       "    }\n",
       "\n",
       "    .dataframe thead th {\n",
       "        text-align: right;\n",
       "    }\n",
       "</style>\n",
       "<table border=\"1\" class=\"dataframe\">\n",
       "  <thead>\n",
       "    <tr style=\"text-align: right;\">\n",
       "      <th></th>\n",
       "      <th>artist</th>\n",
       "      <th>song</th>\n",
       "      <th>link</th>\n",
       "      <th>text</th>\n",
       "    </tr>\n",
       "  </thead>\n",
       "  <tbody>\n",
       "    <tr>\n",
       "      <th>0</th>\n",
       "      <td>ABBA</td>\n",
       "      <td>Ahe's My Kind Of Girl</td>\n",
       "      <td>/a/abba/ahes+my+kind+of+girl_20598417.html</td>\n",
       "      <td>Look at her face, it's a wonderful face  \\r\\nA...</td>\n",
       "    </tr>\n",
       "    <tr>\n",
       "      <th>1</th>\n",
       "      <td>ABBA</td>\n",
       "      <td>Andante, Andante</td>\n",
       "      <td>/a/abba/andante+andante_20002708.html</td>\n",
       "      <td>Take it easy with me, please  \\r\\nTouch me gen...</td>\n",
       "    </tr>\n",
       "    <tr>\n",
       "      <th>2</th>\n",
       "      <td>ABBA</td>\n",
       "      <td>As Good As New</td>\n",
       "      <td>/a/abba/as+good+as+new_20003033.html</td>\n",
       "      <td>I'll never know why I had to go  \\r\\nWhy I had...</td>\n",
       "    </tr>\n",
       "    <tr>\n",
       "      <th>3</th>\n",
       "      <td>ABBA</td>\n",
       "      <td>Bang</td>\n",
       "      <td>/a/abba/bang_20598415.html</td>\n",
       "      <td>Making somebody happy is a question of give an...</td>\n",
       "    </tr>\n",
       "    <tr>\n",
       "      <th>4</th>\n",
       "      <td>ABBA</td>\n",
       "      <td>Bang-A-Boomerang</td>\n",
       "      <td>/a/abba/bang+a+boomerang_20002668.html</td>\n",
       "      <td>Making somebody happy is a question of give an...</td>\n",
       "    </tr>\n",
       "  </tbody>\n",
       "</table>\n",
       "</div>"
      ],
      "text/plain": [
       "  artist                   song                                        link  \\\n",
       "0   ABBA  Ahe's My Kind Of Girl  /a/abba/ahes+my+kind+of+girl_20598417.html   \n",
       "1   ABBA       Andante, Andante       /a/abba/andante+andante_20002708.html   \n",
       "2   ABBA         As Good As New        /a/abba/as+good+as+new_20003033.html   \n",
       "3   ABBA                   Bang                  /a/abba/bang_20598415.html   \n",
       "4   ABBA       Bang-A-Boomerang      /a/abba/bang+a+boomerang_20002668.html   \n",
       "\n",
       "                                                text  \n",
       "0  Look at her face, it's a wonderful face  \\r\\nA...  \n",
       "1  Take it easy with me, please  \\r\\nTouch me gen...  \n",
       "2  I'll never know why I had to go  \\r\\nWhy I had...  \n",
       "3  Making somebody happy is a question of give an...  \n",
       "4  Making somebody happy is a question of give an...  "
      ]
     },
     "execution_count": 3,
     "metadata": {},
     "output_type": "execute_result"
    }
   ],
   "source": [
    "df.head(5)"
   ]
  },
  {
   "cell_type": "code",
   "execution_count": 4,
   "id": "7a33156b-e55f-4912-9488-04c9cf09e117",
   "metadata": {},
   "outputs": [
    {
     "data": {
      "text/html": [
       "<div>\n",
       "<style scoped>\n",
       "    .dataframe tbody tr th:only-of-type {\n",
       "        vertical-align: middle;\n",
       "    }\n",
       "\n",
       "    .dataframe tbody tr th {\n",
       "        vertical-align: top;\n",
       "    }\n",
       "\n",
       "    .dataframe thead th {\n",
       "        text-align: right;\n",
       "    }\n",
       "</style>\n",
       "<table border=\"1\" class=\"dataframe\">\n",
       "  <thead>\n",
       "    <tr style=\"text-align: right;\">\n",
       "      <th></th>\n",
       "      <th>artist</th>\n",
       "      <th>song</th>\n",
       "      <th>link</th>\n",
       "      <th>text</th>\n",
       "    </tr>\n",
       "  </thead>\n",
       "  <tbody>\n",
       "    <tr>\n",
       "      <th>57645</th>\n",
       "      <td>Ziggy Marley</td>\n",
       "      <td>Good Old Days</td>\n",
       "      <td>/z/ziggy+marley/good+old+days_10198588.html</td>\n",
       "      <td>Irie days come on play  \\r\\nLet the angels fly...</td>\n",
       "    </tr>\n",
       "    <tr>\n",
       "      <th>57646</th>\n",
       "      <td>Ziggy Marley</td>\n",
       "      <td>Hand To Mouth</td>\n",
       "      <td>/z/ziggy+marley/hand+to+mouth_20531167.html</td>\n",
       "      <td>Power to the workers  \\r\\nMore power  \\r\\nPowe...</td>\n",
       "    </tr>\n",
       "    <tr>\n",
       "      <th>57647</th>\n",
       "      <td>Zwan</td>\n",
       "      <td>Come With Me</td>\n",
       "      <td>/z/zwan/come+with+me_20148981.html</td>\n",
       "      <td>all you need  \\r\\nis something i'll believe  \\...</td>\n",
       "    </tr>\n",
       "    <tr>\n",
       "      <th>57648</th>\n",
       "      <td>Zwan</td>\n",
       "      <td>Desire</td>\n",
       "      <td>/z/zwan/desire_20148986.html</td>\n",
       "      <td>northern star  \\r\\nam i frightened  \\r\\nwhere ...</td>\n",
       "    </tr>\n",
       "    <tr>\n",
       "      <th>57649</th>\n",
       "      <td>Zwan</td>\n",
       "      <td>Heartsong</td>\n",
       "      <td>/z/zwan/heartsong_20148991.html</td>\n",
       "      <td>come in  \\r\\nmake yourself at home  \\r\\ni'm a ...</td>\n",
       "    </tr>\n",
       "  </tbody>\n",
       "</table>\n",
       "</div>"
      ],
      "text/plain": [
       "             artist           song  \\\n",
       "57645  Ziggy Marley  Good Old Days   \n",
       "57646  Ziggy Marley  Hand To Mouth   \n",
       "57647          Zwan   Come With Me   \n",
       "57648          Zwan         Desire   \n",
       "57649          Zwan      Heartsong   \n",
       "\n",
       "                                              link  \\\n",
       "57645  /z/ziggy+marley/good+old+days_10198588.html   \n",
       "57646  /z/ziggy+marley/hand+to+mouth_20531167.html   \n",
       "57647           /z/zwan/come+with+me_20148981.html   \n",
       "57648                 /z/zwan/desire_20148986.html   \n",
       "57649              /z/zwan/heartsong_20148991.html   \n",
       "\n",
       "                                                    text  \n",
       "57645  Irie days come on play  \\r\\nLet the angels fly...  \n",
       "57646  Power to the workers  \\r\\nMore power  \\r\\nPowe...  \n",
       "57647  all you need  \\r\\nis something i'll believe  \\...  \n",
       "57648  northern star  \\r\\nam i frightened  \\r\\nwhere ...  \n",
       "57649  come in  \\r\\nmake yourself at home  \\r\\ni'm a ...  "
      ]
     },
     "execution_count": 4,
     "metadata": {},
     "output_type": "execute_result"
    }
   ],
   "source": [
    "df.tail(5)"
   ]
  },
  {
   "cell_type": "code",
   "execution_count": 5,
   "id": "62459fcf-ff7e-407a-8822-21ccf1beff27",
   "metadata": {},
   "outputs": [
    {
     "data": {
      "text/plain": [
       "(57650, 4)"
      ]
     },
     "execution_count": 5,
     "metadata": {},
     "output_type": "execute_result"
    }
   ],
   "source": [
    "df.shape"
   ]
  },
  {
   "cell_type": "code",
   "execution_count": 6,
   "id": "24238b08-c21b-4339-b5f8-7fc4e827e6d8",
   "metadata": {},
   "outputs": [
    {
     "data": {
      "text/plain": [
       "artist    0\n",
       "song      0\n",
       "link      0\n",
       "text      0\n",
       "dtype: int64"
      ]
     },
     "execution_count": 6,
     "metadata": {},
     "output_type": "execute_result"
    }
   ],
   "source": [
    "df.isnull().sum()"
   ]
  },
  {
   "cell_type": "code",
   "execution_count": 7,
   "id": "161f062f-9e1a-4994-a63d-8c72e39daef7",
   "metadata": {},
   "outputs": [],
   "source": [
    "df=df.sample(5000).drop('link', axis=1).reset_index(drop=True)"
   ]
  },
  {
   "cell_type": "code",
   "execution_count": 8,
   "id": "1a04fae9-aecc-4431-8138-a964e0290103",
   "metadata": {},
   "outputs": [
    {
     "data": {
      "text/html": [
       "<div>\n",
       "<style scoped>\n",
       "    .dataframe tbody tr th:only-of-type {\n",
       "        vertical-align: middle;\n",
       "    }\n",
       "\n",
       "    .dataframe tbody tr th {\n",
       "        vertical-align: top;\n",
       "    }\n",
       "\n",
       "    .dataframe thead th {\n",
       "        text-align: right;\n",
       "    }\n",
       "</style>\n",
       "<table border=\"1\" class=\"dataframe\">\n",
       "  <thead>\n",
       "    <tr style=\"text-align: right;\">\n",
       "      <th></th>\n",
       "      <th>artist</th>\n",
       "      <th>song</th>\n",
       "      <th>text</th>\n",
       "    </tr>\n",
       "  </thead>\n",
       "  <tbody>\n",
       "    <tr>\n",
       "      <th>0</th>\n",
       "      <td>Carly Simon</td>\n",
       "      <td>Damn, You Get To Me</td>\n",
       "      <td>Hey, when I say things that bother you  \\r\\nDo...</td>\n",
       "    </tr>\n",
       "    <tr>\n",
       "      <th>1</th>\n",
       "      <td>Van Halen</td>\n",
       "      <td>Fools</td>\n",
       "      <td>Well, I ain't about to go to school.  \\r\\nAnd ...</td>\n",
       "    </tr>\n",
       "    <tr>\n",
       "      <th>2</th>\n",
       "      <td>Offspring</td>\n",
       "      <td>Cool To Hate</td>\n",
       "      <td>I hate a lot of things  \\r\\nI hate a lot of pe...</td>\n",
       "    </tr>\n",
       "    <tr>\n",
       "      <th>3</th>\n",
       "      <td>Megadeth</td>\n",
       "      <td>Have Cool, Will Travel</td>\n",
       "      <td>Mamas pack their lunches, kiddies pack their g...</td>\n",
       "    </tr>\n",
       "    <tr>\n",
       "      <th>4</th>\n",
       "      <td>Who</td>\n",
       "      <td>Out In The Street</td>\n",
       "      <td>Out!  \\r\\n  \\r\\nOut in the street  \\r\\nI'm tal...</td>\n",
       "    </tr>\n",
       "    <tr>\n",
       "      <th>5</th>\n",
       "      <td>Keith Green</td>\n",
       "      <td>The Battle Is Already Won</td>\n",
       "      <td>Well, the battle is already won,  \\r\\nAnd the ...</td>\n",
       "    </tr>\n",
       "    <tr>\n",
       "      <th>6</th>\n",
       "      <td>Billie Holiday</td>\n",
       "      <td>If You Were Mine</td>\n",
       "      <td>If you were mine  \\r\\nI could be a ruler of ki...</td>\n",
       "    </tr>\n",
       "    <tr>\n",
       "      <th>7</th>\n",
       "      <td>Nick Cave</td>\n",
       "      <td>The Mercy Seat</td>\n",
       "      <td>It began when they come took me from my home  ...</td>\n",
       "    </tr>\n",
       "    <tr>\n",
       "      <th>8</th>\n",
       "      <td>Waylon Jennings</td>\n",
       "      <td>Can't You See</td>\n",
       "      <td>Gonna catch a freight train as far as I can Lo...</td>\n",
       "    </tr>\n",
       "    <tr>\n",
       "      <th>9</th>\n",
       "      <td>Demi Lovato</td>\n",
       "      <td>Let It Go</td>\n",
       "      <td>Let it go, let it go  \\r\\nCan't hold you back ...</td>\n",
       "    </tr>\n",
       "  </tbody>\n",
       "</table>\n",
       "</div>"
      ],
      "text/plain": [
       "            artist                       song  \\\n",
       "0      Carly Simon        Damn, You Get To Me   \n",
       "1        Van Halen                      Fools   \n",
       "2        Offspring               Cool To Hate   \n",
       "3         Megadeth     Have Cool, Will Travel   \n",
       "4              Who          Out In The Street   \n",
       "5      Keith Green  The Battle Is Already Won   \n",
       "6   Billie Holiday           If You Were Mine   \n",
       "7        Nick Cave             The Mercy Seat   \n",
       "8  Waylon Jennings              Can't You See   \n",
       "9      Demi Lovato                  Let It Go   \n",
       "\n",
       "                                                text  \n",
       "0  Hey, when I say things that bother you  \\r\\nDo...  \n",
       "1  Well, I ain't about to go to school.  \\r\\nAnd ...  \n",
       "2  I hate a lot of things  \\r\\nI hate a lot of pe...  \n",
       "3  Mamas pack their lunches, kiddies pack their g...  \n",
       "4  Out!  \\r\\n  \\r\\nOut in the street  \\r\\nI'm tal...  \n",
       "5  Well, the battle is already won,  \\r\\nAnd the ...  \n",
       "6  If you were mine  \\r\\nI could be a ruler of ki...  \n",
       "7  It began when they come took me from my home  ...  \n",
       "8  Gonna catch a freight train as far as I can Lo...  \n",
       "9  Let it go, let it go  \\r\\nCan't hold you back ...  "
      ]
     },
     "execution_count": 8,
     "metadata": {},
     "output_type": "execute_result"
    }
   ],
   "source": [
    "df.head(10)"
   ]
  },
  {
   "cell_type": "code",
   "execution_count": 9,
   "id": "67704430-e14a-46f5-b581-515263f3dbf0",
   "metadata": {},
   "outputs": [
    {
     "data": {
      "text/plain": [
       "\"Hey, when I say things that bother you  \\r\\nDon't be a stubborn man  \\r\\nDon't leave me in the cold  \\r\\nRemember who I am  \\r\\nDamn, you get to me  \\r\\nWhen I can't get to you,  \\r\\nNo fair, you're silent and you're hurt  \\r\\nAnd all I want to do  \\r\\nIs know what I've done wrong  \\r\\nAll I want to know is what to do  \\r\\nDamn, you get to me  \\r\\nWhen I can't get to you  \\r\\nThere's too much long distance  \\r\\nIn our love  \\r\\nAnd tonight I need you  \\r\\nDon't run away, please let me know  \\r\\nHow I've hurt you  \\r\\nHey, it's me, see I'm the lucky one  \\r\\nYou've opened up my heart  \\r\\nYou led me by the hand  \\r\\nYou took me slow so I would understand  \\r\\nDamn, you got to me  \\r\\nLet me get to you  \\r\\n\\r\\n\""
      ]
     },
     "execution_count": 9,
     "metadata": {},
     "output_type": "execute_result"
    }
   ],
   "source": [
    "df['text'][0]"
   ]
  },
  {
   "cell_type": "code",
   "execution_count": 10,
   "id": "c14dc0e9-2b5a-4a2a-bb45-4c4a8ac28164",
   "metadata": {},
   "outputs": [
    {
     "data": {
      "text/plain": [
       "(5000, 3)"
      ]
     },
     "execution_count": 10,
     "metadata": {},
     "output_type": "execute_result"
    }
   ],
   "source": [
    "df.shape"
   ]
  },
  {
   "cell_type": "markdown",
   "id": "89720fb2-1fc8-4b0c-bce7-4e97a9d5912a",
   "metadata": {},
   "source": [
    "Text Cleaning/ Text Preprocessing"
   ]
  },
  {
   "cell_type": "code",
   "execution_count": 11,
   "id": "35f7280a-c3e3-4197-9012-db63fac55b69",
   "metadata": {},
   "outputs": [],
   "source": [
    "df['text']=df['text'].str.lower().replace(r'^\\w\\s',' ').replace(r'\\n',' ' ,regex=True)"
   ]
  },
  {
   "cell_type": "code",
   "execution_count": 12,
   "id": "16ab0d8f-86e1-40ea-b217-917d4b082b7c",
   "metadata": {},
   "outputs": [
    {
     "data": {
      "text/html": [
       "<div>\n",
       "<style scoped>\n",
       "    .dataframe tbody tr th:only-of-type {\n",
       "        vertical-align: middle;\n",
       "    }\n",
       "\n",
       "    .dataframe tbody tr th {\n",
       "        vertical-align: top;\n",
       "    }\n",
       "\n",
       "    .dataframe thead th {\n",
       "        text-align: right;\n",
       "    }\n",
       "</style>\n",
       "<table border=\"1\" class=\"dataframe\">\n",
       "  <thead>\n",
       "    <tr style=\"text-align: right;\">\n",
       "      <th></th>\n",
       "      <th>artist</th>\n",
       "      <th>song</th>\n",
       "      <th>text</th>\n",
       "    </tr>\n",
       "  </thead>\n",
       "  <tbody>\n",
       "    <tr>\n",
       "      <th>4995</th>\n",
       "      <td>Nina Simone</td>\n",
       "      <td>Someone To Watch Over Me</td>\n",
       "      <td>there's a saying old  \\r says that love is bli...</td>\n",
       "    </tr>\n",
       "    <tr>\n",
       "      <th>4996</th>\n",
       "      <td>Sublime</td>\n",
       "      <td>Boss D.J.</td>\n",
       "      <td>there's a steel train comin' through i would t...</td>\n",
       "    </tr>\n",
       "    <tr>\n",
       "      <th>4997</th>\n",
       "      <td>Pogues</td>\n",
       "      <td>Bright Lights</td>\n",
       "      <td>the bright lights are calling me  \\r the brigh...</td>\n",
       "    </tr>\n",
       "    <tr>\n",
       "      <th>4998</th>\n",
       "      <td>Helloween</td>\n",
       "      <td>Phantoms Of Death</td>\n",
       "      <td>there are phantoms here on earth who take away...</td>\n",
       "    </tr>\n",
       "    <tr>\n",
       "      <th>4999</th>\n",
       "      <td>Children</td>\n",
       "      <td>Looby Loo</td>\n",
       "      <td>here we go looby loo  \\r here we go looby ligh...</td>\n",
       "    </tr>\n",
       "  </tbody>\n",
       "</table>\n",
       "</div>"
      ],
      "text/plain": [
       "           artist                      song  \\\n",
       "4995  Nina Simone  Someone To Watch Over Me   \n",
       "4996      Sublime                 Boss D.J.   \n",
       "4997       Pogues             Bright Lights   \n",
       "4998    Helloween         Phantoms Of Death   \n",
       "4999     Children                 Looby Loo   \n",
       "\n",
       "                                                   text  \n",
       "4995  there's a saying old  \\r says that love is bli...  \n",
       "4996  there's a steel train comin' through i would t...  \n",
       "4997  the bright lights are calling me  \\r the brigh...  \n",
       "4998  there are phantoms here on earth who take away...  \n",
       "4999  here we go looby loo  \\r here we go looby ligh...  "
      ]
     },
     "execution_count": 12,
     "metadata": {},
     "output_type": "execute_result"
    }
   ],
   "source": [
    "df.tail(5)"
   ]
  },
  {
   "cell_type": "code",
   "execution_count": 13,
   "id": "a304dfb5-e171-4d0f-a307-f6a14f7f0382",
   "metadata": {},
   "outputs": [
    {
     "name": "stderr",
     "output_type": "stream",
     "text": [
      "[nltk_data] Downloading package punkt to\n",
      "[nltk_data]     C:\\Users\\princ\\AppData\\Roaming\\nltk_data...\n",
      "[nltk_data]   Package punkt is already up-to-date!\n",
      "[nltk_data] Downloading package punkt_tab to\n",
      "[nltk_data]     C:\\Users\\princ\\AppData\\Roaming\\nltk_data...\n",
      "[nltk_data]   Package punkt_tab is already up-to-date!\n"
     ]
    }
   ],
   "source": [
    "import nltk\n",
    "nltk.download('punkt')\n",
    "nltk.download('punkt_tab')\n",
    "from nltk.stem.porter import PorterStemmer"
   ]
  },
  {
   "cell_type": "code",
   "execution_count": 14,
   "id": "56bd0cd8-70bb-4429-a62d-f0d1cb3d8d04",
   "metadata": {},
   "outputs": [],
   "source": [
    "stemmer=PorterStemmer()"
   ]
  },
  {
   "cell_type": "code",
   "execution_count": 15,
   "id": "1f5471a6-ee6a-4ab6-b3a6-4dff2b12b876",
   "metadata": {},
   "outputs": [],
   "source": [
    "def token(txt):\n",
    "    token= nltk.word_tokenize(txt)\n",
    "    a=[stemmer.stem(w) for w in token ]\n",
    "    return \" \".join(a)"
   ]
  },
  {
   "cell_type": "code",
   "execution_count": 16,
   "id": "aabcecd0-3168-4479-a39d-d7288a4df576",
   "metadata": {},
   "outputs": [
    {
     "data": {
      "text/plain": [
       "'you are beauti , beauti'"
      ]
     },
     "execution_count": 16,
     "metadata": {},
     "output_type": "execute_result"
    }
   ],
   "source": [
    "token(\"you are beautiful, beauty\")"
   ]
  },
  {
   "cell_type": "code",
   "execution_count": 17,
   "id": "b6a89106-b810-47f7-a5f6-7c203d243a20",
   "metadata": {},
   "outputs": [
    {
     "data": {
      "text/plain": [
       "0       hey , when i say thing that bother you do n't ...\n",
       "1       well , i ai n't about to go to school . and i ...\n",
       "2       i hate a lot of thing i hate a lot of peopl th...\n",
       "3       mama pack their lunch , kiddi pack their gun w...\n",
       "4       out ! out in the street i 'm talkin ' 'bout sl...\n",
       "                              ...                        \n",
       "4995    there 's a say old say that love is blind stil...\n",
       "4996    there 's a steel train comin ' through i would...\n",
       "4997    the bright light are call me the bright light ...\n",
       "4998    there are phantom here on earth who take away ...\n",
       "4999    here we go loobi loo here we go loobi light he...\n",
       "Name: text, Length: 5000, dtype: object"
      ]
     },
     "execution_count": 17,
     "metadata": {},
     "output_type": "execute_result"
    }
   ],
   "source": [
    "df['text'].apply(lambda x: token(x))"
   ]
  },
  {
   "cell_type": "code",
   "execution_count": 18,
   "id": "ba87f4d3-ca8e-4953-abf7-593d6b7a5796",
   "metadata": {},
   "outputs": [],
   "source": [
    "from sklearn.feature_extraction.text import TfidfVectorizer\n",
    "from sklearn.metrics.pairwise import cosine_similarity"
   ]
  },
  {
   "cell_type": "code",
   "execution_count": 19,
   "id": "1ebec09c-543e-4679-b374-95724028c03b",
   "metadata": {},
   "outputs": [],
   "source": [
    "tfid=TfidfVectorizer(analyzer='word', stop_words='english')"
   ]
  },
  {
   "cell_type": "code",
   "execution_count": 20,
   "id": "c40a0a5c-8ce0-41d3-95aa-3fa0e5f4bad1",
   "metadata": {},
   "outputs": [],
   "source": [
    "matrix=tfid.fit_transform(df['text'])"
   ]
  },
  {
   "cell_type": "code",
   "execution_count": 21,
   "id": "a2b5320e-054b-41da-8a32-f06634c3cdad",
   "metadata": {},
   "outputs": [],
   "source": [
    "similer=cosine_similarity(matrix)"
   ]
  },
  {
   "cell_type": "code",
   "execution_count": 22,
   "id": "61d22b1d-7d43-47ff-ac04-f1d2ae8f1ebb",
   "metadata": {},
   "outputs": [
    {
     "data": {
      "text/plain": [
       "array([1.        , 0.04153023, 0.02468784, ..., 0.01994171, 0.03845474,\n",
       "       0.01215707])"
      ]
     },
     "execution_count": 22,
     "metadata": {},
     "output_type": "execute_result"
    }
   ],
   "source": [
    "similer[0]"
   ]
  },
  {
   "cell_type": "code",
   "execution_count": 24,
   "id": "1175a705-91c3-4f90-b690-f2f29f49fa4d",
   "metadata": {},
   "outputs": [
    {
     "data": {
      "text/plain": [
       "np.int64(4996)"
      ]
     },
     "execution_count": 24,
     "metadata": {},
     "output_type": "execute_result"
    }
   ],
   "source": [
    "df[df['song']=='Boss D.J.'].index[0]"
   ]
  },
  {
   "cell_type": "markdown",
   "id": "0a7d5203-fe66-42ae-adae-15850eb012e8",
   "metadata": {},
   "source": [
    "Recommender Function"
   ]
  },
  {
   "cell_type": "code",
   "execution_count": 25,
   "id": "7682fdd8-c16b-4452-a312-411c299cc767",
   "metadata": {},
   "outputs": [],
   "source": [
    "def recommender(song_name):\n",
    "    idx=df[df['song']==song_name].index[0]\n",
    "    distance=sorted(list(enumerate(similer[idx])), reverse=True, key=lambda x:x[1])\n",
    "    song=[]\n",
    "    for s_id in distance[1:21]:\n",
    "        song.append(df.iloc[s_id[0]].song)\n",
    "    return song"
   ]
  },
  {
   "cell_type": "code",
   "execution_count": 26,
   "id": "f2cc7ce7-e5a5-4c54-8e18-32c8d8b26b97",
   "metadata": {},
   "outputs": [
    {
     "data": {
      "text/plain": [
       "['Rock Dj',\n",
       " 'Girl U Want',\n",
       " 'Nice Dream',\n",
       " 'I Always Get What I Want',\n",
       " 'Better Think Twice',\n",
       " 'I Wanna Hear You Say It',\n",
       " \"Ain't No Song\",\n",
       " 'I Fall In Love So Easily',\n",
       " 'Fly',\n",
       " 'I Want To Hear It From You',\n",
       " 'Joy',\n",
       " \"Ain't It True\",\n",
       " 'Summer Love',\n",
       " 'Waste',\n",
       " 'Fall To Pieces',\n",
       " 'Singer Man',\n",
       " 'Did I Hear You Say You Love Me',\n",
       " \"(If You're Wondering If I Want You To) I Want You To\",\n",
       " 'I Just Wanna Be With You',\n",
       " \"I Do But I Don't\"]"
      ]
     },
     "execution_count": 26,
     "metadata": {},
     "output_type": "execute_result"
    }
   ],
   "source": [
    "recommender(\"Boss D.J.\")"
   ]
  },
  {
   "cell_type": "code",
   "execution_count": 27,
   "id": "3e6f5ca9-3d18-4258-a3b4-8f63f52a994f",
   "metadata": {},
   "outputs": [],
   "source": [
    "import pickle"
   ]
  },
  {
   "cell_type": "code",
   "execution_count": 28,
   "id": "3d3495d0-d2df-40a0-8bc4-63a4468bbc3e",
   "metadata": {},
   "outputs": [],
   "source": [
    "pickle.dump(similer, open(\"similarity\", \"wb\"))"
   ]
  },
  {
   "cell_type": "code",
   "execution_count": 29,
   "id": "e6213a3c-67c2-4cff-a0f6-c2fd22a23d5d",
   "metadata": {},
   "outputs": [],
   "source": [
    "pickle.dump(df, open(\"df\", \"wb\"))"
   ]
  }
 ],
 "metadata": {
  "kernelspec": {
   "display_name": "env",
   "language": "python",
   "name": "python3"
  },
  "language_info": {
   "codemirror_mode": {
    "name": "ipython",
    "version": 3
   },
   "file_extension": ".py",
   "mimetype": "text/x-python",
   "name": "python",
   "nbconvert_exporter": "python",
   "pygments_lexer": "ipython3",
   "version": "3.10.11"
  }
 },
 "nbformat": 4,
 "nbformat_minor": 5
}
